{
 "cells": [
  {
   "cell_type": "code",
   "execution_count": 3,
   "metadata": {},
   "outputs": [
    {
     "name": "stdout",
     "output_type": "stream",
     "text": [
      "Fitting 3 folds for each of 24 candidates, totalling 72 fits\n",
      "Точность модели: 0.78\n",
      "Результат для здорового пользователя:\n",
      "Диабет не обнаружен (вероятность: 4.70%).\n",
      "\n",
      "Результат для пользователя с диабетом:\n",
      "Диабет обнаружен (вероятность: 98.17%). Вам следует проконсультироваться с врачом.\n"
     ]
    },
    {
     "name": "stderr",
     "output_type": "stream",
     "text": [
      "C:\\Users\\Dos\\AppData\\Roaming\\Python\\Python312\\site-packages\\xgboost\\core.py:158: UserWarning: [14:57:12] WARNING: C:\\buildkite-agent\\builds\\buildkite-windows-cpu-autoscaling-group-i-08cbc0333d8d4aae1-1\\xgboost\\xgboost-ci-windows\\src\\learner.cc:740: \n",
      "Parameters: { \"use_label_encoder\" } are not used.\n",
      "\n",
      "  warnings.warn(smsg, UserWarning)\n",
      "d:\\Python\\Lib\\site-packages\\sklearn\\base.py:493: UserWarning: X does not have valid feature names, but StandardScaler was fitted with feature names\n",
      "  warnings.warn(\n",
      "d:\\Python\\Lib\\site-packages\\sklearn\\base.py:493: UserWarning: X does not have valid feature names, but StandardScaler was fitted with feature names\n",
      "  warnings.warn(\n"
     ]
    }
   ],
   "source": [
    "import numpy as np\n",
    "import pandas as pd\n",
    "import joblib\n",
    "from sklearn.model_selection import train_test_split, GridSearchCV\n",
    "from xgboost import XGBClassifier\n",
    "from sklearn.metrics import accuracy_score\n",
    "from sklearn.preprocessing import StandardScaler\n",
    "from imblearn.over_sampling import SMOTE\n",
    "\n",
    "# Загрузка датасета\n",
    "data = pd.read_csv('diabetes.csv')\n",
    "\n",
    "# Разделение данных на признаки и целевую переменную\n",
    "X = data.drop(\"Outcome\", axis=1)\n",
    "y = data[\"Outcome\"]\n",
    "\n",
    "# Балансировка классов (если данных о диабете меньше)\n",
    "smote = SMOTE(random_state=42)\n",
    "X, y = smote.fit_resample(X, y)\n",
    "\n",
    "# Масштабирование данных\n",
    "scaler = StandardScaler()\n",
    "X = scaler.fit_transform(X)\n",
    "\n",
    "# Разделение на обучающую и тестовую выборки\n",
    "X_train, X_test, y_train, y_test = train_test_split(X, y, test_size=0.2, random_state=42)\n",
    "\n",
    "# Настройка XGBoost с подбором гиперпараметров\n",
    "params = {\n",
    "    'n_estimators': [100, 200],\n",
    "    'learning_rate': [0.01, 0.1],\n",
    "    'max_depth': [3, 5, 7],\n",
    "    'subsample': [0.8, 1.0]\n",
    "}\n",
    "\n",
    "model = XGBClassifier(use_label_encoder=False, eval_metric='logloss')\n",
    "grid_search = GridSearchCV(model, params, cv=3, n_jobs=-1, verbose=1)\n",
    "grid_search.fit(X_train, y_train)\n",
    "\n",
    "# Лучшая модель\n",
    "best_model = grid_search.best_estimator_\n",
    "\n",
    "# Проверка точности\n",
    "y_pred = best_model.predict(X_test)\n",
    "accuracy = accuracy_score(y_test, y_pred)\n",
    "print(f\"Точность модели: {accuracy:.2f}\")\n",
    "\n",
    "# Сохранение модели\n",
    "joblib.dump((best_model, scaler), \"diabetes_model.pkl\")\n",
    "\n",
    "def predict_diabetes(input_data):\n",
    "    model, scaler = joblib.load(\"diabetes_model.pkl\")\n",
    "    input_array = np.array(input_data).reshape(1, -1)\n",
    "    input_array = scaler.transform(input_array)  # Применяем масштабирование\n",
    "    prediction = model.predict(input_array)[0]\n",
    "    probability = model.predict_proba(input_array)[0][1] * 100\n",
    "    \n",
    "    if prediction == 1:\n",
    "        result = f\"Диабет обнаружен (вероятность: {probability:.2f}%). Вам следует проконсультироваться с врачом.\"\n",
    "    elif probability > 50:\n",
    "        result = f\"Есть склонность к диабету (вероятность: {probability:.2f}%). Рекомендуется следить за питанием и образом жизни.\"\n",
    "    else:\n",
    "        result = f\"Диабет не обнаружен (вероятность: {probability:.2f}%).\"\n",
    "    \n",
    "    return result\n",
    "\n",
    "# Примеры пользовательского ввода\n",
    "user_input_healthy = [2, 120, 70, 20, 85, 25.5, 0.3, 30]  # Данные без диабета\n",
    "user_input_diabetic = [8, 180, 90, 40, 200, 35.0, 0.8, 50]  # Данные с диабетом\n",
    "\n",
    "print(\"Результат для здорового пользователя:\")\n",
    "print(predict_diabetes(user_input_healthy))\n",
    "\n",
    "print(\"\\nРезультат для пользователя с диабетом:\")\n",
    "print(predict_diabetes(user_input_diabetic))"
   ]
  },
  {
   "cell_type": "code",
   "execution_count": 6,
   "metadata": {},
   "outputs": [],
   "source": [
    "def test_predict_diabetes():\n",
    "    test_cases = [\n",
    "        {\n",
    "            \"input\": [2, 120, 70, 20, 85, 25.5, 0.3, 30],\n",
    "            \"description\": \"Корректные данные (здоровый пользователь)\"\n",
    "        },\n",
    "        {\n",
    "            \"input\": [8, 180, 90, 40, 200, 35.0, 0.8, 50],\n",
    "            \"description\": \"Корректные данные (пользователь с диабетом)\"\n",
    "        },\n",
    "        {\n",
    "            \"input\": [5, 100, 70],  # Недостаточно признаков\n",
    "            \"description\": \"Недостаточное количество признаков\"\n",
    "        },\n",
    "        {\n",
    "            \"input\": \"not a list\",  # Неверный формат\n",
    "            \"description\": \"Неверный тип данных\"\n",
    "        }\n",
    "    ]\n",
    "\n",
    "    for i, case in enumerate(test_cases, 1):\n",
    "        print(f\"\\nТест {i}: {case['description']}\")\n",
    "        try:\n",
    "            result = predict_diabetes(case[\"input\"])\n",
    "            print(\"Результат:\", result)\n",
    "        except Exception as e:\n",
    "            print(\"Ошибка:\", str(e))\n"
   ]
  },
  {
   "cell_type": "code",
   "execution_count": 7,
   "metadata": {},
   "outputs": [
    {
     "name": "stdout",
     "output_type": "stream",
     "text": [
      "\n",
      "Тест 1: Корректные данные (здоровый пользователь)\n",
      "Результат: Диабет не обнаружен (вероятность: 4.70%).\n",
      "\n",
      "Тест 2: Корректные данные (пользователь с диабетом)\n",
      "Результат: Диабет обнаружен (вероятность: 98.17%). Вам следует проконсультироваться с врачом.\n",
      "\n",
      "Тест 3: Недостаточное количество признаков\n",
      "Ошибка: X has 3 features, but StandardScaler is expecting 8 features as input.\n",
      "\n",
      "Тест 4: Неверный тип данных\n",
      "Ошибка: could not convert string to float: 'not a list'\n"
     ]
    },
    {
     "name": "stderr",
     "output_type": "stream",
     "text": [
      "d:\\Python\\Lib\\site-packages\\sklearn\\base.py:493: UserWarning: X does not have valid feature names, but StandardScaler was fitted with feature names\n",
      "  warnings.warn(\n",
      "d:\\Python\\Lib\\site-packages\\sklearn\\base.py:493: UserWarning: X does not have valid feature names, but StandardScaler was fitted with feature names\n",
      "  warnings.warn(\n",
      "d:\\Python\\Lib\\site-packages\\sklearn\\base.py:493: UserWarning: X does not have valid feature names, but StandardScaler was fitted with feature names\n",
      "  warnings.warn(\n",
      "d:\\Python\\Lib\\site-packages\\sklearn\\base.py:493: UserWarning: X does not have valid feature names, but StandardScaler was fitted with feature names\n",
      "  warnings.warn(\n"
     ]
    }
   ],
   "source": [
    "test_predict_diabetes()"
   ]
  }
 ],
 "metadata": {
  "kernelspec": {
   "display_name": "Python 3",
   "language": "python",
   "name": "python3"
  },
  "language_info": {
   "codemirror_mode": {
    "name": "ipython",
    "version": 3
   },
   "file_extension": ".py",
   "mimetype": "text/x-python",
   "name": "python",
   "nbconvert_exporter": "python",
   "pygments_lexer": "ipython3",
   "version": "3.12.3"
  }
 },
 "nbformat": 4,
 "nbformat_minor": 2
}
