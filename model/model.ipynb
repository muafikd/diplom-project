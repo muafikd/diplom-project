{
 "cells": [
  {
   "cell_type": "code",
   "execution_count": 1,
   "metadata": {},
   "outputs": [
    {
     "name": "stdout",
     "output_type": "stream",
     "text": [
      "   age  sex  cp  trestbps  chol  fbs  restecg  thalach  exang  oldpeak  slope  \\\n",
      "0   63    1   3       145   233    1        0      150      0      2.3      0   \n",
      "1   37    1   2       130   250    0        1      187      0      3.5      0   \n",
      "2   41    0   1       130   204    0        0      172      0      1.4      2   \n",
      "3   56    1   1       120   236    0        1      178      0      0.8      2   \n",
      "4   57    0   0       120   354    0        1      163      1      0.6      2   \n",
      "\n",
      "   ca  thal  target  \n",
      "0   0     1       1  \n",
      "1   0     2       1  \n",
      "2   0     2       1  \n",
      "3   0     2       1  \n",
      "4   0     2       1  \n"
     ]
    }
   ],
   "source": [
    "import pandas as pd\n",
    "\n",
    "# Чтение данных из файла\n",
    "data = pd.read_csv('heart.csv')\n",
    "\n",
    "# Посмотрим на первые строки данных\n",
    "print(data.head())\n"
   ]
  },
  {
   "cell_type": "code",
   "execution_count": 2,
   "metadata": {},
   "outputs": [
    {
     "name": "stdout",
     "output_type": "stream",
     "text": [
      "age         0\n",
      "sex         0\n",
      "cp          0\n",
      "trestbps    0\n",
      "chol        0\n",
      "fbs         0\n",
      "restecg     0\n",
      "thalach     0\n",
      "exang       0\n",
      "oldpeak     0\n",
      "slope       0\n",
      "ca          0\n",
      "thal        0\n",
      "dtype: int64\n"
     ]
    }
   ],
   "source": [
    "# Разделим данные на X (признаки) и y (целевая переменная)\n",
    "X = data.drop(columns=['target'])  # Все столбцы, кроме 'target'\n",
    "y = data['target']  # Целевая переменная\n",
    "\n",
    "# Проверим на наличие пропущенных значений\n",
    "print(X.isnull().sum())\n"
   ]
  },
  {
   "cell_type": "code",
   "execution_count": 3,
   "metadata": {},
   "outputs": [
    {
     "name": "stdout",
     "output_type": "stream",
     "text": [
      "Точность модели: 0.7704918032786885\n"
     ]
    }
   ],
   "source": [
    "from sklearn.ensemble import GradientBoostingClassifier\n",
    "from sklearn.model_selection import train_test_split\n",
    "\n",
    "# Разделим данные на тренировочную и тестовую выборки\n",
    "X_train, X_test, y_train, y_test = train_test_split(X, y, test_size=0.2, random_state=42)\n",
    "\n",
    "# Создадим модель\n",
    "model = GradientBoostingClassifier()\n",
    "\n",
    "# Обучим модель\n",
    "model.fit(X_train, y_train)\n",
    "\n",
    "# Оценим точность модели\n",
    "accuracy = model.score(X_test, y_test)\n",
    "print(f\"Точность модели: {accuracy}\")\n"
   ]
  },
  {
   "cell_type": "code",
   "execution_count": 5,
   "metadata": {},
   "outputs": [
    {
     "name": "stdout",
     "output_type": "stream",
     "text": [
      "У человека есть риск заболеваний сердца.\n"
     ]
    }
   ],
   "source": [
    "\n",
    "# Пример ввода данных для нового человека\n",
    "new_data = [[63, 1, 3, 145, 233, 1, 0, 150, 0, 2.3, 0, 1, 1]]  # Пример данных\n",
    "\n",
    "# Преобразуем в DataFrame, чтобы указать имена признаков\n",
    "columns = ['age', 'sex', 'cp', 'trestbps', 'chol', 'fbs', 'restecg', 'thalach', 'exang', 'oldpeak', 'slope', 'ca', 'thal']\n",
    "new_data_df = pd.DataFrame(new_data, columns=columns)\n",
    "\n",
    "# Сделаем предсказание\n",
    "prediction = model.predict(new_data_df)\n",
    "\n",
    "# Выведем результат\n",
    "if prediction == 1:\n",
    "    print(\"У человека есть риск заболеваний сердца.\")\n",
    "else:\n",
    "    print(\"У человека нет риска заболеваний сердца.\")\n"
   ]
  },
  {
   "cell_type": "code",
   "execution_count": 12,
   "metadata": {},
   "outputs": [
    {
     "name": "stdout",
     "output_type": "stream",
     "text": [
      "Точность модели: 0.8241758241758241\n",
      "У человека есть риск заболеваний сердца.\n"
     ]
    }
   ],
   "source": [
    "import pandas as pd\n",
    "from sklearn.model_selection import train_test_split\n",
    "from sklearn.ensemble import RandomForestClassifier\n",
    "from sklearn.metrics import accuracy_score\n",
    "\n",
    "# Загружаем данные\n",
    "data = pd.read_csv('heart.csv')\n",
    "\n",
    "# Преобразуем данные\n",
    "X = data.drop('target', axis=1)  # Признаки\n",
    "y = data['target']  # Целевая переменная (Здоров/С рисками)\n",
    "\n",
    "# Разделяем данные на тренировочные и тестовые\n",
    "X_train, X_test, y_train, y_test = train_test_split(X, y, test_size=0.3, random_state=42)\n",
    "\n",
    "# Создаем модель RandomForest\n",
    "model = RandomForestClassifier(n_estimators=100, random_state=42)\n",
    "model.fit(X_train, y_train)\n",
    "\n",
    "# Оцениваем точность модели\n",
    "y_pred = model.predict(X_test)\n",
    "accuracy = accuracy_score(y_test, y_pred)\n",
    "print(f\"Точность модели: {accuracy}\")\n",
    "\n",
    "# Пример ввода данных для нового пациента\n",
    "new_data = [[63, 1, 3, 145, 233, 1, 0, 150, 0, 2.3, 0, 1, 1]]  # Пример данных нового пациента\n",
    "\n",
    "# Преобразуем в DataFrame с правильными названиями столбцов\n",
    "columns = ['age', 'sex', 'cp', 'trestbps', 'chol', 'fbs', 'restecg', 'thalach', 'exang', 'oldpeak', 'slope', 'ca', 'thal']\n",
    "new_data_df = pd.DataFrame(new_data, columns=columns)\n",
    "\n",
    "# Делаем предсказание\n",
    "prediction = model.predict(new_data_df)\n",
    "\n",
    "# Выводим результат\n",
    "if prediction == 1:\n",
    "    print(\"У человека есть риск заболеваний сердца.\")\n",
    "else:\n",
    "    print(\"У человека нет риска заболеваний сердца.\")\n"
   ]
  },
  {
   "cell_type": "code",
   "execution_count": 11,
   "metadata": {},
   "outputs": [
    {
     "name": "stdout",
     "output_type": "stream",
     "text": [
      "Точность модели Random Forest: 0.8351648351648352\n"
     ]
    }
   ],
   "source": [
    "from sklearn.ensemble import RandomForestClassifier\n",
    "\n",
    "# Создаем модель RandomForest\n",
    "rf_model = RandomForestClassifier(n_estimators=100, max_depth=5, random_state=42)\n",
    "rf_model.fit(X_train, y_train)\n",
    "\n",
    "# Предсказания\n",
    "y_pred = rf_model.predict(X_test)\n",
    "\n",
    "# Оценка точности\n",
    "accuracy = accuracy_score(y_test, y_pred)\n",
    "print(f\"Точность модели Random Forest: {accuracy}\")\n"
   ]
  }
 ],
 "metadata": {
  "kernelspec": {
   "display_name": "Python 3",
   "language": "python",
   "name": "python3"
  },
  "language_info": {
   "codemirror_mode": {
    "name": "ipython",
    "version": 3
   },
   "file_extension": ".py",
   "mimetype": "text/x-python",
   "name": "python",
   "nbconvert_exporter": "python",
   "pygments_lexer": "ipython3",
   "version": "3.12.3"
  }
 },
 "nbformat": 4,
 "nbformat_minor": 2
}
